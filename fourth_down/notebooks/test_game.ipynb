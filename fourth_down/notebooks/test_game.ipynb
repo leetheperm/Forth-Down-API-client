{
 "cells": [
  {
   "cell_type": "code",
   "execution_count": null,
   "metadata": {},
   "outputs": [],
   "source": [
    "from fourth_down_api import FourthDownEnvironment\n",
    "from fourth_down_api.fourth_down_api_base import FourthDownApiBase\n",
    "from fourth_down_api.api_json import ForthDownApiJson\n",
    "from fourth_down_api.parameters import GameParameters, ScheduleParameters, ResultsParameters\n",
    "import pandas as pd"
   ]
  },
  {
   "cell_type": "code",
   "execution_count": null,
   "metadata": {},
   "outputs": [],
   "source": [
    "api = ForthDownApiJson(FourthDownEnvironment.production)"
   ]
  },
  {
   "cell_type": "code",
   "execution_count": null,
   "metadata": {},
   "outputs": [],
   "source": [
    "teams = api.all_teams(verbose=True)"
   ]
  },
  {
   "cell_type": "code",
   "execution_count": null,
   "metadata": {},
   "outputs": [],
   "source": [
    "\n",
    "df = pd.read_json(teams)\n",
    "df.head(10)"
   ]
  },
  {
   "cell_type": "code",
   "execution_count": null,
   "metadata": {},
   "outputs": [],
   "source": [
    "schedule = api.schedule(ScheduleParameters(\n",
    "    season=2021,\n",
    "    team=\"LA\"\n",
    "),verbose=True)\n",
    "schedule_df = pd.read_json(schedule)\n",
    "schedule_df.head(5)"
   ]
  },
  {
   "cell_type": "code",
   "execution_count": null,
   "metadata": {},
   "outputs": [],
   "source": [
    "schedule_results = api.schedule_results(ResultsParameters(\n",
    "    team=\"LA\",\n",
    "    opposition=\"CLE\",\n",
    "    game_offset=1,\n",
    "    game_type=\"All\"\n",
    "\n",
    "),verbose=True)\n",
    "schedule_df = pd.read_json(schedule)\n",
    "schedule_df"
   ]
  },
  {
   "cell_type": "code",
   "execution_count": null,
   "metadata": {},
   "outputs": [],
   "source": [
    "schedule = api.schedule(ScheduleParameters(),verbose=True)\n",
    "pd.read_json(schedule)"
   ]
  }
 ],
 "metadata": {
  "kernelspec": {
   "display_name": "Python 3",
   "language": "python",
   "name": "python3"
  },
  "language_info": {
   "codemirror_mode": {
    "name": "ipython",
    "version": 3
   },
   "file_extension": ".py",
   "mimetype": "text/x-python",
   "name": "python",
   "nbconvert_exporter": "python",
   "pygments_lexer": "ipython3",
   "version": "3.10.4"
  },
  "orig_nbformat": 4
 },
 "nbformat": 4,
 "nbformat_minor": 2
}
